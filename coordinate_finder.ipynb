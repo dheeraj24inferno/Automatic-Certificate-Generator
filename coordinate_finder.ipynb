{
 "cells": [
  {
   "cell_type": "code",
   "execution_count": 3,
   "metadata": {},
   "outputs": [],
   "source": [
    "\n",
    "# Capturing mouse events\n",
    "\n",
    "import numpy as np\n",
    "import cv2 as cv\n",
    "\n",
    "f = open(\"coords.txt\",\"w\")\n",
    "\n",
    "# mouse callback function\n",
    "def draw_circle(event,x,y,flags,param):\n",
    "    if event == cv.EVENT_LBUTTONDBLCLK:\n",
    "        #img[:] = 0\n",
    "        cv.putText(img,\"coordinates (%d,%d)\"%(x,y),(60,60),2,1,(0,255,0)) #SELECT LOCATION OF TEXT(TRIAL & ERROR)\n",
    "        f.write(str(x)+\"\\n\")                                              #SELECT TEXT'S TOP SIDE COORDS \n",
    "        f.write(str(y)+\"\\n\")                                              #DOUBLE CLICK TO SELECT\n",
    "                                                                           #COORDS WITH GREEN TEXT WILL BE DISPLAYED\n",
    "# Create a black image, a window and bind the function to window\n",
    "img = cv.imread(\"Python Bootcamp.jpg\")\n",
    "\n",
    "\n",
    "#cv.imshow('image',img)\n",
    "cv.namedWindow('image',cv.WINDOW_NORMAL)\n",
    "cv.setMouseCallback('image',draw_circle)\n",
    "while(1):\n",
    "    cv.imshow('image',img)\n",
    "    if cv.waitKey(10) & 0xFF == 27:   #Press Escape Key to terminate window\n",
    "        break\n",
    "cv.destroyAllWindows()   \n",
    "\n",
    "f.close()"
   ]
  },
  {
   "cell_type": "code",
   "execution_count": null,
   "metadata": {},
   "outputs": [],
   "source": []
  },
  {
   "cell_type": "code",
   "execution_count": null,
   "metadata": {},
   "outputs": [],
   "source": []
  },
  {
   "cell_type": "code",
   "execution_count": null,
   "metadata": {},
   "outputs": [],
   "source": []
  }
 ],
 "metadata": {
  "kernelspec": {
   "display_name": "Python 3",
   "language": "python",
   "name": "python3"
  },
  "language_info": {
   "codemirror_mode": {
    "name": "ipython",
    "version": 3
   },
   "file_extension": ".py",
   "mimetype": "text/x-python",
   "name": "python",
   "nbconvert_exporter": "python",
   "pygments_lexer": "ipython3",
   "version": "3.7.6"
  }
 },
 "nbformat": 4,
 "nbformat_minor": 4
}
