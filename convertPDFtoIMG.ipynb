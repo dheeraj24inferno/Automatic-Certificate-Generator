{
 "cells": [
  {
   "cell_type": "code",
   "execution_count": 17,
   "metadata": {},
   "outputs": [],
   "source": [
    "from wand.image import Image as wi\n",
    "pdf= wi(filename=\"WORKSHOP PYTHON BOOTCAMP CERTIFICATE OF EXCELLENCE.pdf\",resolution=1400)\n",
    "Images= pdf.convert(\"jpg\")\n",
    "i=1\n",
    "for img in pdf.sequence:\n",
    "    Image= wi(image=img)\n",
    "    Image.save(filename=\"WORKSHOP PYTHON BOOTCAMP CERTIFICATE OF EXCELLENCE\"+str(i)+\".jpg\")\n",
    "    i+=1"
   ]
  },
  {
   "cell_type": "code",
   "execution_count": null,
   "metadata": {},
   "outputs": [],
   "source": []
  }
 ],
 "metadata": {
  "kernelspec": {
   "display_name": "Python 3",
   "language": "python",
   "name": "python3"
  },
  "language_info": {
   "codemirror_mode": {
    "name": "ipython",
    "version": 3
   },
   "file_extension": ".py",
   "mimetype": "text/x-python",
   "name": "python",
   "nbconvert_exporter": "python",
   "pygments_lexer": "ipython3",
   "version": "3.7.6"
  }
 },
 "nbformat": 4,
 "nbformat_minor": 4
}
