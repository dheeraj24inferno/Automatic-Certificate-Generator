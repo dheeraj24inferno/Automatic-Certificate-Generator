{
 "cells": [
  {
   "cell_type": "markdown",
   "metadata": {},
   "source": [
    "# Automatic-Certificate Generator"
   ]
  },
  {
   "cell_type": "markdown",
   "metadata": {},
   "source": [
    "### This  project will help us in creating certifactes by adding Student's Name, Date , Instructor's Name, Instructor's Signature on Certificate Base Image and then generate n number of certificate in one run"
   ]
  },
  {
   "cell_type": "markdown",
   "metadata": {},
   "source": [
    "we will be using PIL, CV2, CSV library of python to complete this task"
   ]
  },
  {
   "cell_type": "code",
   "execution_count": 2,
   "metadata": {},
   "outputs": [],
   "source": [
    "from PIL import ImageFont,ImageDraw,Image\n",
    "import cv2\n",
    "import numpy as np\n",
    "import os\n",
    "import csv\n",
    "\n",
    "#fetching all the name present in name.txt \n",
    "f = open(\"names.txt\",\"r\")\n",
    "name_list = f.read().split(\"\\n\")\n",
    "#print(name_list)\n",
    "\n",
    "#fetching the coordinates where the name,signature and date has to be written from coordinate.txt\n",
    "f1 = open(\"coordinates.txt\",\"r\")\n",
    "coordinates= f1.read().split(\"\\n\")\n",
    "#print(coordinates)\n",
    "\n",
    "#selecting the image that we will be using in this project\n",
    "flag=True\n",
    "date_to_print=\"29/08/2020\"\n",
    " \n",
    "\n",
    "for i in range (len(name_list)):\n",
    "    name_to_print=name_list[i]\n",
    "    # load the image in openCV\n",
    "    image= cv2.imread(\"Python Bootcamp.jpg\")\n",
    "    cv2_im_rgb = cv2.cvtColor(image,cv2.COLOR_BGR2RGB)\n",
    "    # Pass the image to PIL  \n",
    "    pil_im = Image.fromarray(cv2_im_rgb)  \n",
    "\n",
    "    draw = ImageDraw.Draw(pil_im)  \n",
    "    # use a truetype font  \n",
    "    font = ImageFont.truetype(\"./fonts/MLSJN.TTF\", 52)      #You can change fonts from list given bottom\n",
    "    font1 = ImageFont.truetype(\"./fonts/MLSJN.TTF\", 41) \n",
    "\n",
    "    # Draw the text \n",
    "    draw.text((int(coordinates[0]), int(coordinates[1])), name_to_print, font=font , fill='#892D63')\n",
    "    draw.text((int(coordinates[2]), int(coordinates[3])), date_to_print , font=font1, fill='#892D63')\n",
    "    \n",
    "    # Get back the image to OpenCV  \n",
    "    cv2_im_processed = cv2.cvtColor(np.array(pil_im), cv2.COLOR_RGB2BGR)  \n",
    "    \n",
    "    if flag:\n",
    "        cv2.imshow('Certificate', cv2_im_processed) #Shows sample image\n",
    "        flag=False\n",
    "    path = ''\n",
    "    cv2.imwrite('./output/'+name_to_print+'.png',cv2_im_processed)\n",
    "    #os.startfile('output.png')\n",
    "    cv2.waitKey(0)  \n",
    "\n",
    "    cv2.destroyAllWindows()"
   ]
  },
  {
   "cell_type": "code",
   "execution_count": null,
   "metadata": {},
   "outputs": [],
   "source": []
  }
 ],
 "metadata": {
  "kernelspec": {
   "display_name": "Python 3",
   "language": "python",
   "name": "python3"
  },
  "language_info": {
   "codemirror_mode": {
    "name": "ipython",
    "version": 3
   },
   "file_extension": ".py",
   "mimetype": "text/x-python",
   "name": "python",
   "nbconvert_exporter": "python",
   "pygments_lexer": "ipython3",
   "version": "3.7.6"
  }
 },
 "nbformat": 4,
 "nbformat_minor": 4
}
